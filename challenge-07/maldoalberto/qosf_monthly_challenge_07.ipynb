{
  "nbformat": 4,
  "nbformat_minor": 5,
  "metadata": {
    "kernelspec": {
      "display_name": "Python 3",
      "language": "python",
      "name": "python3"
    },
    "language_info": {
      "codemirror_mode": {
        "name": "ipython",
        "version": 3
      },
      "file_extension": ".py",
      "mimetype": "text/x-python",
      "name": "python",
      "nbconvert_exporter": "python",
      "pygments_lexer": "ipython3",
      "version": "3.8.8"
    },
    "colab": {
      "name": "qosf-monthly-challenge-07.ipynb",
      "provenance": []
    }
  },
  "cells": [
    {
      "cell_type": "markdown",
      "metadata": {
        "id": "657b2d49"
      },
      "source": [
        "# Background\n",
        "The k-NN algorithm is one of the best known classification algorithms and an example of supervised learning. The algorithm is called k-NN (k-Nearest Neighbors) because it classifies from a test set that we will call states $|a_i>$ whose labels are determined by finding the minimum distance to the states of the training set $|b_j>$, whose labels are known beforehand [1].To find the distance between two instances, in classical computation one of these is the Euclidean distance, $\\lvert a-b \\rvert = \\sqrt{\\sum_{i=1}^N (a_i-b_i)^2}$. In the case of quantum computation, its equivalence is achieved from the inner product (or dot product) which is defined as $\\lvert u-v \\rvert = \\lvert a \\rvert  \\lvert b \\rvert -a \\cdot b$, where |a> and |b> are two quantum states.To implement the inner product corresponding to the Euclidean distance, it is necessary to use a quantum subroutine known as the SWAP test [2], which is a quantum algorithm that can be used to estimate the fidelity of two pure states $|a>$ and $|v>$, i.e., $F=\\lvert <a|b>\\rvert ^2$. Figure (1) shows the quantum circuit to perform such an operation."
      ],
      "id": "657b2d49"
    },
    {
      "cell_type": "code",
      "metadata": {
        "colab": {
          "base_uri": "https://localhost:8080/",
          "height": 489
        },
        "id": "sBdxQ1kkZtj_",
        "outputId": "9cc53445-b032-4d96-9d91-bdde5de3172c"
      },
      "source": [
        "from IPython.display import Image\n",
        "Image('/content/swap_t.png')"
      ],
      "id": "sBdxQ1kkZtj_",
      "execution_count": 1,
      "outputs": [
        {
          "output_type": "execute_result",
          "data": {
            "image/png": "[encoded data removed]",
            "text/plain": [
              "<IPython.core.display.Image object>"
            ]
          },
          "metadata": {
            "tags": []
          },
          "execution_count": 1
        }
      ]
    },
    {
      "cell_type": "markdown",
      "metadata": {
        "id": "Vs6nBlPJY6sq"
      },
      "source": [
        "Of the quantum circuit in the measurement will indicate the following probabilities\n",
        "\n",
        "$P(0) =\\frac{1}{\\sqrt{2}}+\\frac{1}{\\sqrt{2}}<a|b>^2  $\n",
        "\n",
        "$P(1) =\\frac{1}{\\sqrt{2}}-\\frac{1}{\\sqrt{2}}<a|b>^2  $\n",
        "\n",
        "#Task\n",
        "\n",
        "Desing a quantum circuit that use the MNIST dataset to perform the first nearest neighbor (1-nn) classification using at least 2 classes and achieve classification with at least 85% accuracy. \n",
        "\n",
        "Considerations to solve the problem is to decrease the number of qubits that can hold the image information (using a classical preprocessing). \n",
        "\n",
        "Bonus : Consider more classes and keep it with an accuracy higher than 85%."
      ],
      "id": "Vs6nBlPJY6sq"
    },
    {
      "cell_type": "markdown",
      "metadata": {
        "id": "bcb2f283"
      },
      "source": [
        "## Rerefences\n",
        "\n",
        "[1] Afham, & Basheer, Afrad & Goyal, Sandeep. (2020). Quantum k-nearest neighbor machine learning algorithm. \n",
        "\n",
        "[2] Wiebe, Nathan & Kapoor, Ashish & Svore, Krysta. (2015). Quantum algorithms for nearest-neighbor methods for supervised and unsupervised learning. Quantum Information and Computation. 15. 318-358. \n",
        "\n",
        "[3]Ruan, Yue & Xue, Xiling & Liu, Heng & Tan, Jianing & Li, Xi. (2017). Quantum Algorithm for K-Nearest Neighbors Classification Based on the Metric of Hamming Distance. International Journal of Theoretical Physics. 56. 10.1007/s10773-017-3514-4. \n",
        "\n",
        "[4] Giovannetti, Vittorio & Lloyd, Seth & Maccone, Lorenzo. (2008). Quantum Random Access Memory. Physical review letters. 100. 160501. 10.1103/PhysRevLett.100.160501. \n",
        "\n",
        "[5] Toghi, Behrad & Grover, Divas. (2018). MNIST Dataset Classification Utilizing k-NN Classifier with Modified Sliding Window Metric. \n",
        "\n",
        "[6] Katyayan, Pragya & Joshi, Nisheeth. (2020). Quantum Computing: Start your journey with Qiskit! | Open Source for You (December 2020). 10.13140/RG.2.2.32232.08961\n",
        "\n"
      ],
      "id": "bcb2f283"
    }
  ]
}
