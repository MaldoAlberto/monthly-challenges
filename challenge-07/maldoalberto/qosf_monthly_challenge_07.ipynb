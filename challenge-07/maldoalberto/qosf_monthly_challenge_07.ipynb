{
  "nbformat": 4,
  "nbformat_minor": 5,
  "metadata": {
    "kernelspec": {
      "display_name": "Python 3",
      "language": "python",
      "name": "python3"
    },
    "language_info": {
      "codemirror_mode": {
        "name": "ipython",
        "version": 3
      },
      "file_extension": ".py",
      "mimetype": "text/x-python",
      "name": "python",
      "nbconvert_exporter": "python",
      "pygments_lexer": "ipython3",
      "version": "3.8.8"
    },
    "colab": {
      "name": "qosf-monthly-challenge-07.ipynb",
      "provenance": [],
      "toc_visible": true
    }
  },
  "cells": [
    {
      "cell_type": "markdown",
      "metadata": {
        "id": "657b2d49"
      },
      "source": [
        "# Task\n",
        "From an array of size $2^n$ where $n \\in [2,4]$ has integers ranging from the range of (0,32) has one number repeated throughout the array. The objective of this project is to identify the indices with the highest possible probability.\n",
        "For this we check the following examples.\n",
        "\n",
        "### Example 1\n",
        "\n",
        "if n = 2 \n",
        "we have a array of  size 4 with the following numbers [1,6,2,6]  in this case the reapeat number is 6, which is located in positions 1 and 3  or it could be 3 and 1 of the array.\n",
        "\n",
        "### Example 2\n",
        "\n",
        "if n = 4\n",
        "\n",
        "we have a array of  size 4 with the following numbers [10,12,8,4,11,25,31,13,2,1,9,30,13,5,7,14]  in this case the reapeat number is 55, which is localed in position 2 and 15 of the array.\n",
        "\n",
        "## Challenge\n",
        "\n",
        "Generate a quantum algorithm that returns the repeated number indices of the input array and consider an integer  array of $2^n$ where $n \\in [2,4]$ .\n",
        "\n",
        "### Part 1\n",
        "\n",
        "Obtain by your proposed quantum circuit the indices of the repeated values of the following array \n",
        "\n",
        "#### [13,13,1,31], where n = 2\n",
        "\n",
        "### Part 2\n",
        "\n",
        "Use the quantum circuit diagram from part 1 to solve part 2 but considering the following values.\n",
        "\n",
        "#### [1,2,3,6,29,30,3,4], where n = 3\n",
        "\n",
        "\n",
        "### Part 3\n",
        "\n",
        "Use the quantum circuit diagram from part 2 to solve part 2 but considering the following values.\n",
        "\n",
        "#### [10,12,8,4,11,25,31,13,2,1,9,30,13,5,7,14],  where n = 4\n"
      ],
      "id": "657b2d49"
    },
    {
      "cell_type": "markdown",
      "metadata": {
        "id": "bcb2f283"
      },
      "source": [
        "## Rerefences\n",
        "[1] Grover, Lov K. , \"A fast quantum mechanical algorithm for database search\", Proceedings of the 28th Annual ACM Symposium on the Theory of Computing (1996), arXiv:quant-ph/9605043\n",
        "\n",
        "[2] https://www.ibm.com/blogs/research/2020/12/quantum-challenge-fall-results/"
      ],
      "id": "bcb2f283"
    }
  ]
}